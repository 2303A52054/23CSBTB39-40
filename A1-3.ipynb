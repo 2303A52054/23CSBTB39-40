{
  "cells": [
    {
      "cell_type": "markdown",
      "metadata": {
        "id": "view-in-github",
        "colab_type": "text"
      },
      "source": [
        "<a href=\"https://colab.research.google.com/github/2303A52054/23CSBTB39-40/blob/main/A1-3.ipynb\" target=\"_parent\"><img src=\"https://colab.research.google.com/assets/colab-badge.svg\" alt=\"Open In Colab\"/></a>"
      ]
    },
    {
      "cell_type": "code",
      "source": [
        "# Step 1: Mount Google Drive\n",
        "from google.colab import drive\n",
        "drive.mount('/content/drive')\n",
        "import pandas as pd\n",
        "data = {\n",
        "    'Name': ['Kiran', 'Arun', 'Vijay', 'Varun'],\n",
        "    'Age': [25, 30, 35, 40],\n",
        "    'Height': [145, 151, 165, 173],\n",
        "    'Weight': [45, 55, 65, 75]\n",
        "}\n",
        "\n",
        "\n",
        "# Create a DataFrame\n",
        "df = pd.DataFrame(data)\n",
        "df.to_csv('/content/drive/My Drive/data.csv', index=False)\n",
        "df.to_csv('/content/drive/My Drive/data.tsv', sep='\\t', index=False)\n",
        "df.to_excel('/content/drive/My Drive/data.xlsx', index=False)\n",
        "\n",
        "# Step 2: Accessing the TSV file\n",
        "tsv_file_path = '/content/drive/My Drive/data.tsv'\n",
        "tsv_data = pd.read_csv(tsv_file_path, sep='\\t')\n",
        "print(\"Data from TSV file:\")\n",
        "print(tsv_data)\n",
        "\n",
        "\n",
        "# Step 3: Accessing the CSV file\n",
        "csv_file_path = '/content/drive/My Drive/data.csv'\n",
        "csv_data = pd.read_csv(csv_file_path)\n",
        "\n",
        "print(\"Data from CSV file:\")\n",
        "print(csv_data)\n",
        "\n",
        "\n",
        "# Step 4: Accessing the Excel file\n",
        "excel_file_path = '/content/drive/My Drive/data.xlsx'\n",
        "excel_data = pd.read_excel(excel_file_path)\n",
        "print(\"Data from Excel file:\")\n",
        "print(excel_data)\n",
        "\n",
        "\n",
        "\n",
        "# Step 5: Accessing text data from a URL\n",
        "url = 'https://people.sc.fsu.edu/~jburkardt/data/csv/hw_200.csv'\n",
        "url_data = pd.read_csv(url)\n",
        "print(\"Data from URL:\")\n",
        "print(url_data)\n"
      ],
      "metadata": {
        "id": "SQav71CRWNjz",
        "outputId": "d63d8a2d-da58-4f5b-919a-8b9354433387",
        "colab": {
          "base_uri": "https://localhost:8080/"
        }
      },
      "execution_count": 2,
      "outputs": [
        {
          "output_type": "stream",
          "name": "stdout",
          "text": [
            "Drive already mounted at /content/drive; to attempt to forcibly remount, call drive.mount(\"/content/drive\", force_remount=True).\n",
            "Data from TSV file:\n",
            "    Name  Age  Height  Weight\n",
            "0  Kiran   25     145      45\n",
            "1   Arun   30     151      55\n",
            "2  Vijay   35     165      65\n",
            "3  Varun   40     173      75\n",
            "Data from CSV file:\n",
            "    Name  Age  Height  Weight\n",
            "0  Kiran   25     145      45\n",
            "1   Arun   30     151      55\n",
            "2  Vijay   35     165      65\n",
            "3  Varun   40     173      75\n",
            "Data from Excel file:\n",
            "    Name  Age  Height  Weight\n",
            "0  Kiran   25     145      45\n",
            "1   Arun   30     151      55\n",
            "2  Vijay   35     165      65\n",
            "3  Varun   40     173      75\n",
            "Data from URL:\n",
            "     Index   Height(Inches)\"   \"Weight(Pounds)\"\n",
            "0        1             65.78             112.99\n",
            "1        2             71.52             136.49\n",
            "2        3             69.40             153.03\n",
            "3        4             68.22             142.34\n",
            "4        5             67.79             144.30\n",
            "..     ...               ...                ...\n",
            "195    196             65.80             120.84\n",
            "196    197             66.11             115.78\n",
            "197    198             68.24             128.30\n",
            "198    199             68.02             127.47\n",
            "199    200             71.39             127.88\n",
            "\n",
            "[200 rows x 3 columns]\n"
          ]
        }
      ]
    }
  ],
  "metadata": {
    "colab": {
      "name": "Welcome to Colaboratory",
      "toc_visible": true,
      "provenance": [],
      "include_colab_link": true
    },
    "kernelspec": {
      "display_name": "Python 3",
      "name": "python3"
    }
  },
  "nbformat": 4,
  "nbformat_minor": 0
}